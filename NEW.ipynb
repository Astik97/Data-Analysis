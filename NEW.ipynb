{
 "cells": [
  {
   "cell_type": "code",
   "execution_count": 1,
   "id": "01f9008e-d25e-4bcb-b857-972ec450a70e",
   "metadata": {},
   "outputs": [],
   "source": [
    "import pandas as pd\n",
    "import numpy as np\n",
    "import matplotlib.pyplot as plt"
   ]
  },
  {
   "cell_type": "code",
   "execution_count": 7,
   "id": "a2e2e012-6963-4e95-bfd0-4dae29d355c0",
   "metadata": {},
   "outputs": [
    {
     "name": "stderr",
     "output_type": "stream",
     "text": [
      "<>:1: SyntaxWarning: invalid escape sequence '\\D'\n",
      "<>:1: SyntaxWarning: invalid escape sequence '\\D'\n",
      "C:\\Users\\astik\\AppData\\Local\\Temp\\ipykernel_17304\\1825612163.py:1: SyntaxWarning: invalid escape sequence '\\D'\n",
      "  data=pd.read_csv(\"A:\\Dataset\\DATA\\Data.csv\")\n"
     ]
    }
   ],
   "source": [
    "data=pd.read_csv(\"A:\\Dataset\\DATA\\Data.csv\")\n",
    "X=data.iloc[:,:-1].values\n",
    "Y=data.iloc[:,:-1].values"
   ]
  },
  {
   "cell_type": "code",
   "execution_count": 9,
   "id": "f61ae63f-8521-48fe-8dbe-609669b4fb02",
   "metadata": {},
   "outputs": [
    {
     "name": "stdout",
     "output_type": "stream",
     "text": [
      "[['India' 44.0 72000.0]\n",
      " ['Thailand ' 27.0 48000.0]\n",
      " ['Indonesia' 30.0 54000.0]\n",
      " ['China' 38.0 61000.0]\n",
      " ['India' 40.0 nan]\n",
      " ['China' 35.0 58000.0]\n",
      " ['Thailand ' nan 52000.0]\n",
      " ['India' 48.0 79000.0]\n",
      " ['Indonesia' 50.0 83000.0]\n",
      " ['Thailand ' 37.0 67000.0]\n",
      " ['India' 25.0 nan]\n",
      " ['Thailand ' 36.0 60000.0]\n",
      " ['Indonesia' 42.0 64000.0]\n",
      " ['India' nan 40000.0]\n",
      " ['Thailand ' 52.0 90000.0]\n",
      " ['Indonesia' nan 55000.0]\n",
      " ['China' 41.0 nan]\n",
      " ['India' 29.0 48000.0]\n",
      " ['China' 43.0 70000.0]]\n"
     ]
    }
   ],
   "source": [
    "print(Y)"
   ]
  },
  {
   "cell_type": "code",
   "execution_count": 11,
   "id": "66a7a1cf-00ed-4f88-8bc1-daa2d6897a51",
   "metadata": {},
   "outputs": [
    {
     "name": "stdout",
     "output_type": "stream",
     "text": [
      "[['India' 44.0 72000.0]\n",
      " ['Thailand ' 27.0 48000.0]\n",
      " ['Indonesia' 30.0 54000.0]\n",
      " ['China' 38.0 61000.0]\n",
      " ['India' 40.0 nan]\n",
      " ['China' 35.0 58000.0]\n",
      " ['Thailand ' nan 52000.0]\n",
      " ['India' 48.0 79000.0]\n",
      " ['Indonesia' 50.0 83000.0]\n",
      " ['Thailand ' 37.0 67000.0]\n",
      " ['India' 25.0 nan]\n",
      " ['Thailand ' 36.0 60000.0]\n",
      " ['Indonesia' 42.0 64000.0]\n",
      " ['India' nan 40000.0]\n",
      " ['Thailand ' 52.0 90000.0]\n",
      " ['Indonesia' nan 55000.0]\n",
      " ['China' 41.0 nan]\n",
      " ['India' 29.0 48000.0]\n",
      " ['China' 43.0 70000.0]]\n"
     ]
    }
   ],
   "source": [
    "print(X)"
   ]
  },
  {
   "cell_type": "code",
   "execution_count": 13,
   "id": "93952d0e-0674-4753-8394-e3a7eafa5d26",
   "metadata": {},
   "outputs": [
    {
     "data": {
      "text/html": [
       "<div>\n",
       "<style scoped>\n",
       "    .dataframe tbody tr th:only-of-type {\n",
       "        vertical-align: middle;\n",
       "    }\n",
       "\n",
       "    .dataframe tbody tr th {\n",
       "        vertical-align: top;\n",
       "    }\n",
       "\n",
       "    .dataframe thead th {\n",
       "        text-align: right;\n",
       "    }\n",
       "</style>\n",
       "<table border=\"1\" class=\"dataframe\">\n",
       "  <thead>\n",
       "    <tr style=\"text-align: right;\">\n",
       "      <th></th>\n",
       "      <th>Country</th>\n",
       "      <th>Age</th>\n",
       "      <th>Salary</th>\n",
       "      <th>Purchased</th>\n",
       "    </tr>\n",
       "  </thead>\n",
       "  <tbody>\n",
       "    <tr>\n",
       "      <th>0</th>\n",
       "      <td>India</td>\n",
       "      <td>44.0</td>\n",
       "      <td>72000.0</td>\n",
       "      <td>No</td>\n",
       "    </tr>\n",
       "    <tr>\n",
       "      <th>1</th>\n",
       "      <td>Thailand</td>\n",
       "      <td>27.0</td>\n",
       "      <td>48000.0</td>\n",
       "      <td>Yes</td>\n",
       "    </tr>\n",
       "    <tr>\n",
       "      <th>2</th>\n",
       "      <td>Indonesia</td>\n",
       "      <td>30.0</td>\n",
       "      <td>54000.0</td>\n",
       "      <td>No</td>\n",
       "    </tr>\n",
       "    <tr>\n",
       "      <th>3</th>\n",
       "      <td>China</td>\n",
       "      <td>38.0</td>\n",
       "      <td>61000.0</td>\n",
       "      <td>No</td>\n",
       "    </tr>\n",
       "    <tr>\n",
       "      <th>4</th>\n",
       "      <td>India</td>\n",
       "      <td>40.0</td>\n",
       "      <td>NaN</td>\n",
       "      <td>Yes</td>\n",
       "    </tr>\n",
       "    <tr>\n",
       "      <th>5</th>\n",
       "      <td>China</td>\n",
       "      <td>35.0</td>\n",
       "      <td>58000.0</td>\n",
       "      <td>Yes</td>\n",
       "    </tr>\n",
       "    <tr>\n",
       "      <th>6</th>\n",
       "      <td>Thailand</td>\n",
       "      <td>NaN</td>\n",
       "      <td>52000.0</td>\n",
       "      <td>No</td>\n",
       "    </tr>\n",
       "    <tr>\n",
       "      <th>7</th>\n",
       "      <td>India</td>\n",
       "      <td>48.0</td>\n",
       "      <td>79000.0</td>\n",
       "      <td>Yes</td>\n",
       "    </tr>\n",
       "    <tr>\n",
       "      <th>8</th>\n",
       "      <td>Indonesia</td>\n",
       "      <td>50.0</td>\n",
       "      <td>83000.0</td>\n",
       "      <td>No</td>\n",
       "    </tr>\n",
       "    <tr>\n",
       "      <th>9</th>\n",
       "      <td>Thailand</td>\n",
       "      <td>37.0</td>\n",
       "      <td>67000.0</td>\n",
       "      <td>Yes</td>\n",
       "    </tr>\n",
       "    <tr>\n",
       "      <th>10</th>\n",
       "      <td>India</td>\n",
       "      <td>25.0</td>\n",
       "      <td>NaN</td>\n",
       "      <td>No</td>\n",
       "    </tr>\n",
       "    <tr>\n",
       "      <th>11</th>\n",
       "      <td>Thailand</td>\n",
       "      <td>36.0</td>\n",
       "      <td>60000.0</td>\n",
       "      <td>No</td>\n",
       "    </tr>\n",
       "    <tr>\n",
       "      <th>12</th>\n",
       "      <td>Indonesia</td>\n",
       "      <td>42.0</td>\n",
       "      <td>64000.0</td>\n",
       "      <td>Yes</td>\n",
       "    </tr>\n",
       "    <tr>\n",
       "      <th>13</th>\n",
       "      <td>India</td>\n",
       "      <td>NaN</td>\n",
       "      <td>40000.0</td>\n",
       "      <td>Yes</td>\n",
       "    </tr>\n",
       "    <tr>\n",
       "      <th>14</th>\n",
       "      <td>Thailand</td>\n",
       "      <td>52.0</td>\n",
       "      <td>90000.0</td>\n",
       "      <td>Yes</td>\n",
       "    </tr>\n",
       "    <tr>\n",
       "      <th>15</th>\n",
       "      <td>Indonesia</td>\n",
       "      <td>NaN</td>\n",
       "      <td>55000.0</td>\n",
       "      <td>No</td>\n",
       "    </tr>\n",
       "    <tr>\n",
       "      <th>16</th>\n",
       "      <td>China</td>\n",
       "      <td>41.0</td>\n",
       "      <td>NaN</td>\n",
       "      <td>Yes</td>\n",
       "    </tr>\n",
       "    <tr>\n",
       "      <th>17</th>\n",
       "      <td>India</td>\n",
       "      <td>29.0</td>\n",
       "      <td>48000.0</td>\n",
       "      <td>No</td>\n",
       "    </tr>\n",
       "    <tr>\n",
       "      <th>18</th>\n",
       "      <td>China</td>\n",
       "      <td>43.0</td>\n",
       "      <td>70000.0</td>\n",
       "      <td>Yes</td>\n",
       "    </tr>\n",
       "  </tbody>\n",
       "</table>\n",
       "</div>"
      ],
      "text/plain": [
       "      Country   Age   Salary Purchased\n",
       "0       India  44.0  72000.0        No\n",
       "1   Thailand   27.0  48000.0       Yes\n",
       "2   Indonesia  30.0  54000.0        No\n",
       "3       China  38.0  61000.0        No\n",
       "4       India  40.0      NaN       Yes\n",
       "5       China  35.0  58000.0       Yes\n",
       "6   Thailand    NaN  52000.0        No\n",
       "7       India  48.0  79000.0       Yes\n",
       "8   Indonesia  50.0  83000.0        No\n",
       "9   Thailand   37.0  67000.0       Yes\n",
       "10      India  25.0      NaN        No\n",
       "11  Thailand   36.0  60000.0        No\n",
       "12  Indonesia  42.0  64000.0       Yes\n",
       "13      India   NaN  40000.0       Yes\n",
       "14  Thailand   52.0  90000.0       Yes\n",
       "15  Indonesia   NaN  55000.0        No\n",
       "16      China  41.0      NaN       Yes\n",
       "17      India  29.0  48000.0        No\n",
       "18      China  43.0  70000.0       Yes"
      ]
     },
     "execution_count": 13,
     "metadata": {},
     "output_type": "execute_result"
    }
   ],
   "source": [
    "data"
   ]
  },
  {
   "cell_type": "code",
   "execution_count": 25,
   "id": "41f8d8bc-5032-40f9-b1f6-418dffcbe98a",
   "metadata": {},
   "outputs": [],
   "source": [
    "data.dropna(inplace=True)"
   ]
  },
  {
   "cell_type": "code",
   "execution_count": 27,
   "id": "9001725b-0b46-41b2-9262-d21743443630",
   "metadata": {},
   "outputs": [
    {
     "data": {
      "text/html": [
       "<div>\n",
       "<style scoped>\n",
       "    .dataframe tbody tr th:only-of-type {\n",
       "        vertical-align: middle;\n",
       "    }\n",
       "\n",
       "    .dataframe tbody tr th {\n",
       "        vertical-align: top;\n",
       "    }\n",
       "\n",
       "    .dataframe thead th {\n",
       "        text-align: right;\n",
       "    }\n",
       "</style>\n",
       "<table border=\"1\" class=\"dataframe\">\n",
       "  <thead>\n",
       "    <tr style=\"text-align: right;\">\n",
       "      <th></th>\n",
       "      <th>Country</th>\n",
       "      <th>Age</th>\n",
       "      <th>Salary</th>\n",
       "      <th>Purchased</th>\n",
       "    </tr>\n",
       "  </thead>\n",
       "  <tbody>\n",
       "    <tr>\n",
       "      <th>0</th>\n",
       "      <td>India</td>\n",
       "      <td>44.0</td>\n",
       "      <td>72000.0</td>\n",
       "      <td>No</td>\n",
       "    </tr>\n",
       "    <tr>\n",
       "      <th>1</th>\n",
       "      <td>Thailand</td>\n",
       "      <td>27.0</td>\n",
       "      <td>48000.0</td>\n",
       "      <td>Yes</td>\n",
       "    </tr>\n",
       "    <tr>\n",
       "      <th>2</th>\n",
       "      <td>Indonesia</td>\n",
       "      <td>30.0</td>\n",
       "      <td>54000.0</td>\n",
       "      <td>No</td>\n",
       "    </tr>\n",
       "    <tr>\n",
       "      <th>3</th>\n",
       "      <td>China</td>\n",
       "      <td>38.0</td>\n",
       "      <td>61000.0</td>\n",
       "      <td>No</td>\n",
       "    </tr>\n",
       "    <tr>\n",
       "      <th>5</th>\n",
       "      <td>China</td>\n",
       "      <td>35.0</td>\n",
       "      <td>58000.0</td>\n",
       "      <td>Yes</td>\n",
       "    </tr>\n",
       "    <tr>\n",
       "      <th>7</th>\n",
       "      <td>India</td>\n",
       "      <td>48.0</td>\n",
       "      <td>79000.0</td>\n",
       "      <td>Yes</td>\n",
       "    </tr>\n",
       "    <tr>\n",
       "      <th>8</th>\n",
       "      <td>Indonesia</td>\n",
       "      <td>50.0</td>\n",
       "      <td>83000.0</td>\n",
       "      <td>No</td>\n",
       "    </tr>\n",
       "    <tr>\n",
       "      <th>9</th>\n",
       "      <td>Thailand</td>\n",
       "      <td>37.0</td>\n",
       "      <td>67000.0</td>\n",
       "      <td>Yes</td>\n",
       "    </tr>\n",
       "    <tr>\n",
       "      <th>11</th>\n",
       "      <td>Thailand</td>\n",
       "      <td>36.0</td>\n",
       "      <td>60000.0</td>\n",
       "      <td>No</td>\n",
       "    </tr>\n",
       "    <tr>\n",
       "      <th>12</th>\n",
       "      <td>Indonesia</td>\n",
       "      <td>42.0</td>\n",
       "      <td>64000.0</td>\n",
       "      <td>Yes</td>\n",
       "    </tr>\n",
       "    <tr>\n",
       "      <th>14</th>\n",
       "      <td>Thailand</td>\n",
       "      <td>52.0</td>\n",
       "      <td>90000.0</td>\n",
       "      <td>Yes</td>\n",
       "    </tr>\n",
       "    <tr>\n",
       "      <th>17</th>\n",
       "      <td>India</td>\n",
       "      <td>29.0</td>\n",
       "      <td>48000.0</td>\n",
       "      <td>No</td>\n",
       "    </tr>\n",
       "    <tr>\n",
       "      <th>18</th>\n",
       "      <td>China</td>\n",
       "      <td>43.0</td>\n",
       "      <td>70000.0</td>\n",
       "      <td>Yes</td>\n",
       "    </tr>\n",
       "  </tbody>\n",
       "</table>\n",
       "</div>"
      ],
      "text/plain": [
       "      Country   Age   Salary Purchased\n",
       "0       India  44.0  72000.0        No\n",
       "1   Thailand   27.0  48000.0       Yes\n",
       "2   Indonesia  30.0  54000.0        No\n",
       "3       China  38.0  61000.0        No\n",
       "5       China  35.0  58000.0       Yes\n",
       "7       India  48.0  79000.0       Yes\n",
       "8   Indonesia  50.0  83000.0        No\n",
       "9   Thailand   37.0  67000.0       Yes\n",
       "11  Thailand   36.0  60000.0        No\n",
       "12  Indonesia  42.0  64000.0       Yes\n",
       "14  Thailand   52.0  90000.0       Yes\n",
       "17      India  29.0  48000.0        No\n",
       "18      China  43.0  70000.0       Yes"
      ]
     },
     "execution_count": 27,
     "metadata": {},
     "output_type": "execute_result"
    }
   ],
   "source": [
    "data"
   ]
  },
  {
   "cell_type": "code",
   "execution_count": 29,
   "id": "df263378-6797-4038-a0e2-0defc88af492",
   "metadata": {},
   "outputs": [],
   "source": [
    "from sklearn.impute import SimpleImputer\n",
    "imputer=SimpleImputer(missing_values=np.nan,strategy='mean')\n",
    "imputer.fit(X[:,1:3])\n",
    "X[:,1:3]=imputer.transform(X[:,1:3])"
   ]
  },
  {
   "cell_type": "code",
   "execution_count": 31,
   "id": "2c0cf669-f55a-47c8-98ad-5545963f76ec",
   "metadata": {},
   "outputs": [
    {
     "name": "stdout",
     "output_type": "stream",
     "text": [
      "[['India' 44.0 72000.0]\n",
      " ['Thailand ' 27.0 48000.0]\n",
      " ['Indonesia' 30.0 54000.0]\n",
      " ['China' 38.0 61000.0]\n",
      " ['India' 40.0 62562.5]\n",
      " ['China' 35.0 58000.0]\n",
      " ['Thailand ' 38.5625 52000.0]\n",
      " ['India' 48.0 79000.0]\n",
      " ['Indonesia' 50.0 83000.0]\n",
      " ['Thailand ' 37.0 67000.0]\n",
      " ['India' 25.0 62562.5]\n",
      " ['Thailand ' 36.0 60000.0]\n",
      " ['Indonesia' 42.0 64000.0]\n",
      " ['India' 38.5625 40000.0]\n",
      " ['Thailand ' 52.0 90000.0]\n",
      " ['Indonesia' 38.5625 55000.0]\n",
      " ['China' 41.0 62562.5]\n",
      " ['India' 29.0 48000.0]\n",
      " ['China' 43.0 70000.0]]\n"
     ]
    }
   ],
   "source": [
    "print(X)"
   ]
  },
  {
   "cell_type": "code",
   "execution_count": 33,
   "id": "20dd02b3-fe08-4abf-80c7-d71f64e97d5e",
   "metadata": {},
   "outputs": [],
   "source": [
    "from sklearn.impute import SimpleImputer\n",
    "imputer=SimpleImputer(missing_values=np.nan,strategy='mean')\n",
    "imputer.fit(Y[:,1:3])\n",
    "Y[:,1:3]=imputer.transform(Y[:,1:3])"
   ]
  },
  {
   "cell_type": "code",
   "execution_count": 35,
   "id": "429f70c5-ece2-40ff-adff-3358e8e0410a",
   "metadata": {},
   "outputs": [
    {
     "name": "stdout",
     "output_type": "stream",
     "text": [
      "[['India' 44.0 72000.0]\n",
      " ['Thailand ' 27.0 48000.0]\n",
      " ['Indonesia' 30.0 54000.0]\n",
      " ['China' 38.0 61000.0]\n",
      " ['India' 40.0 62562.5]\n",
      " ['China' 35.0 58000.0]\n",
      " ['Thailand ' 38.5625 52000.0]\n",
      " ['India' 48.0 79000.0]\n",
      " ['Indonesia' 50.0 83000.0]\n",
      " ['Thailand ' 37.0 67000.0]\n",
      " ['India' 25.0 62562.5]\n",
      " ['Thailand ' 36.0 60000.0]\n",
      " ['Indonesia' 42.0 64000.0]\n",
      " ['India' 38.5625 40000.0]\n",
      " ['Thailand ' 52.0 90000.0]\n",
      " ['Indonesia' 38.5625 55000.0]\n",
      " ['China' 41.0 62562.5]\n",
      " ['India' 29.0 48000.0]\n",
      " ['China' 43.0 70000.0]]\n"
     ]
    }
   ],
   "source": [
    "print(Y)"
   ]
  },
  {
   "cell_type": "code",
   "execution_count": 37,
   "id": "64f6bfd6-adac-4217-b873-f6a25f8dec33",
   "metadata": {},
   "outputs": [],
   "source": [
    "from sklearn.compose import ColumnTransformer\n",
    "from sklearn.preprocessing import OneHotEncoder\n",
    "Column_transform=ColumnTransformer(transformers=[('encoder', OneHotEncoder(),[0]),],remainder='passthrough')\n",
    "X=np.array(Column_transform.fit_transform(X))"
   ]
  },
  {
   "cell_type": "code",
   "execution_count": 39,
   "id": "c901290e-da45-4a18-8702-5724a0132632",
   "metadata": {},
   "outputs": [
    {
     "name": "stdout",
     "output_type": "stream",
     "text": [
      "[[0.0 1.0 0.0 0.0 44.0 72000.0]\n",
      " [0.0 0.0 0.0 1.0 27.0 48000.0]\n",
      " [0.0 0.0 1.0 0.0 30.0 54000.0]\n",
      " [1.0 0.0 0.0 0.0 38.0 61000.0]\n",
      " [0.0 1.0 0.0 0.0 40.0 62562.5]\n",
      " [1.0 0.0 0.0 0.0 35.0 58000.0]\n",
      " [0.0 0.0 0.0 1.0 38.5625 52000.0]\n",
      " [0.0 1.0 0.0 0.0 48.0 79000.0]\n",
      " [0.0 0.0 1.0 0.0 50.0 83000.0]\n",
      " [0.0 0.0 0.0 1.0 37.0 67000.0]\n",
      " [0.0 1.0 0.0 0.0 25.0 62562.5]\n",
      " [0.0 0.0 0.0 1.0 36.0 60000.0]\n",
      " [0.0 0.0 1.0 0.0 42.0 64000.0]\n",
      " [0.0 1.0 0.0 0.0 38.5625 40000.0]\n",
      " [0.0 0.0 0.0 1.0 52.0 90000.0]\n",
      " [0.0 0.0 1.0 0.0 38.5625 55000.0]\n",
      " [1.0 0.0 0.0 0.0 41.0 62562.5]\n",
      " [0.0 1.0 0.0 0.0 29.0 48000.0]\n",
      " [1.0 0.0 0.0 0.0 43.0 70000.0]]\n"
     ]
    }
   ],
   "source": [
    "print(X)"
   ]
  },
  {
   "cell_type": "code",
   "execution_count": 41,
   "id": "56313b43-4e6c-412e-bcc8-b81b5501982a",
   "metadata": {},
   "outputs": [
    {
     "name": "stdout",
     "output_type": "stream",
     "text": [
      "[[0.0 0.0 0.0 1.0 52.0 90000.0]\n",
      " [0.0 0.0 0.0 1.0 37.0 67000.0]\n",
      " [0.0 0.0 0.0 1.0 36.0 60000.0]\n",
      " [1.0 0.0 0.0 0.0 38.0 61000.0]\n",
      " [0.0 1.0 0.0 0.0 38.5625 40000.0]\n",
      " [0.0 1.0 0.0 0.0 29.0 48000.0]\n",
      " [0.0 0.0 0.0 1.0 27.0 48000.0]\n",
      " [0.0 0.0 1.0 0.0 30.0 54000.0]\n",
      " [0.0 0.0 1.0 0.0 38.5625 55000.0]\n",
      " [0.0 0.0 1.0 0.0 50.0 83000.0]\n",
      " [1.0 0.0 0.0 0.0 35.0 58000.0]\n",
      " [0.0 1.0 0.0 0.0 48.0 79000.0]\n",
      " [0.0 0.0 0.0 1.0 38.5625 52000.0]]\n"
     ]
    }
   ],
   "source": [
    "import numpy as np\n",
    "from sklearn.model_selection import train_test_split\n",
    "\n",
    "# Assuming X and Y are your original arrays\n",
    "X = np.array(X)\n",
    "Y = np.array(Y).reshape(-1)  # Flatten Y if it's not already 1D\n",
    "\n",
    "# Ensure X and Y have the same number of samples\n",
    "min_samples = min(len(X), len(Y))\n",
    "X = X[:min_samples]\n",
    "Y = Y[:min_samples]\n",
    "\n",
    "# Now split the data\n",
    "X_train, X_test, Y_train, Y_test = train_test_split(X, Y, test_size=0.3,random_state=40)\n",
    "\n",
    "print(X_train)"
   ]
  },
  {
   "cell_type": "code",
   "execution_count": 43,
   "id": "9e834507-1666-4956-bfee-dd548ef1fb3f",
   "metadata": {},
   "outputs": [
    {
     "name": "stdout",
     "output_type": "stream",
     "text": [
      "[[1.0 0.0 0.0 0.0 41.0 62562.5]\n",
      " [0.0 1.0 0.0 0.0 25.0 62562.5]\n",
      " [0.0 1.0 0.0 0.0 40.0 62562.5]\n",
      " [0.0 1.0 0.0 0.0 44.0 72000.0]\n",
      " [0.0 0.0 1.0 0.0 42.0 64000.0]\n",
      " [1.0 0.0 0.0 0.0 43.0 70000.0]]\n"
     ]
    }
   ],
   "source": [
    "print(X_test)"
   ]
  },
  {
   "cell_type": "code",
   "execution_count": 45,
   "id": "e49d51e0-d515-44e1-8ca8-d22753e47b4d",
   "metadata": {},
   "outputs": [
    {
     "name": "stdout",
     "output_type": "stream",
     "text": [
      "[62562.5 'China' 61000.0 'Thailand ' 40.0 58000.0 44.0 72000.0 'China'\n",
      " 54000.0 48000.0 30.0 'Indonesia']\n"
     ]
    }
   ],
   "source": [
    "print(Y_train)"
   ]
  },
  {
   "cell_type": "code",
   "execution_count": 47,
   "id": "fcd129a9-b81b-422d-ae72-bd5d57502448",
   "metadata": {},
   "outputs": [
    {
     "name": "stdout",
     "output_type": "stream",
     "text": [
      "[35.0 38.0 27.0 'India' 'India' 'Thailand ']\n"
     ]
    }
   ],
   "source": [
    "print(Y_test)"
   ]
  },
  {
   "cell_type": "code",
   "execution_count": 49,
   "id": "54cf4003-0b46-43fa-8440-fa40c1fd8a4f",
   "metadata": {},
   "outputs": [],
   "source": [
    "from sklearn.preprocessing import StandardScaler\n",
    "import numpy as np\n",
    "scaler=StandardScaler()\n",
    "X_train=scaler.fit_transform(X_train)\n",
    "X_test=scaler.transform(X_test)"
   ]
  },
  {
   "cell_type": "code",
   "execution_count": 51,
   "id": "53da3d6e-18ae-4a92-bf23-639542b53846",
   "metadata": {},
   "outputs": [
    {
     "data": {
      "text/plain": [
       "array([[-0.42640143, -0.54772256, -0.54772256,  1.26491106,  1.84320248,\n",
       "         2.02433758],\n",
       "       [-0.42640143, -0.54772256, -0.54772256,  1.26491106, -0.17249739,\n",
       "         0.41026575],\n",
       "       [-0.42640143, -0.54772256, -0.54772256,  1.26491106, -0.30687739,\n",
       "        -0.0809735 ],\n",
       "       [ 2.34520788, -0.54772256, -0.54772256, -0.79056942, -0.0381174 ,\n",
       "        -0.01079647],\n",
       "       [-0.42640143,  1.82574186, -0.54772256, -0.79056942,  0.03747134,\n",
       "        -1.48451423],\n",
       "       [-0.42640143,  1.82574186, -0.54772256, -0.79056942, -1.24753733,\n",
       "        -0.92309794],\n",
       "       [-0.42640143, -0.54772256, -0.54772256,  1.26491106, -1.51629731,\n",
       "        -0.92309794],\n",
       "       [-0.42640143, -0.54772256,  1.82574186, -0.79056942, -1.11315734,\n",
       "        -0.50203572],\n",
       "       [-0.42640143, -0.54772256,  1.82574186, -0.79056942,  0.03747134,\n",
       "        -0.43185868],\n",
       "       [-0.42640143, -0.54772256,  1.82574186, -0.79056942,  1.5744425 ,\n",
       "         1.53309833],\n",
       "       [ 2.34520788, -0.54772256, -0.54772256, -0.79056942, -0.44125738,\n",
       "        -0.22132758],\n",
       "       [-0.42640143,  1.82574186, -0.54772256, -0.79056942,  1.30568252,\n",
       "         1.25239018],\n",
       "       [-0.42640143, -0.54772256, -0.54772256,  1.26491106,  0.03747134,\n",
       "        -0.64238979]])"
      ]
     },
     "execution_count": 51,
     "metadata": {},
     "output_type": "execute_result"
    }
   ],
   "source": [
    "X_train"
   ]
  },
  {
   "cell_type": "code",
   "execution_count": 53,
   "id": "19d3fdbe-60cf-445c-8192-a1e4e7a66a29",
   "metadata": {},
   "outputs": [
    {
     "data": {
      "text/plain": [
       "array([[ 2.34520788, -0.54772256, -0.54772256, -0.79056942,  0.36502257,\n",
       "         0.09885515],\n",
       "       [-0.42640143,  1.82574186, -0.54772256, -0.79056942, -1.7850573 ,\n",
       "         0.09885515],\n",
       "       [-0.42640143,  1.82574186, -0.54772256, -0.79056942,  0.23064258,\n",
       "         0.09885515],\n",
       "       [-0.42640143,  1.82574186, -0.54772256, -0.79056942,  0.76816255,\n",
       "         0.76115093],\n",
       "       [-0.42640143, -0.54772256,  1.82574186, -0.79056942,  0.49940257,\n",
       "         0.19973464],\n",
       "       [ 2.34520788, -0.54772256, -0.54772256, -0.79056942,  0.63378256,\n",
       "         0.62079686]])"
      ]
     },
     "execution_count": 53,
     "metadata": {},
     "output_type": "execute_result"
    }
   ],
   "source": [
    "X_test"
   ]
  },
  {
   "cell_type": "code",
   "execution_count": 55,
   "id": "33724c66-f049-4275-92c5-2a3a6d275f5b",
   "metadata": {},
   "outputs": [
    {
     "data": {
      "text/plain": [
       "<Axes: xlabel='Age', ylabel='Salary'>"
      ]
     },
     "execution_count": 55,
     "metadata": {},
     "output_type": "execute_result"
    },
    {
     "data": {
      "image/png": "[encoded data removed]",
      "text/plain": [
       "<Figure size 640x480 with 1 Axes>"
      ]
     },
     "metadata": {},
     "output_type": "display_data"
    }
   ],
   "source": [
    "import seaborn as sns\n",
    "sns.barplot(x='Age',y='Salary',data=data)"
   ]
  },
  {
   "cell_type": "code",
   "execution_count": 63,
   "id": "1ba58335-79bd-4a13-9115-7f984fd9c979",
   "metadata": {},
   "outputs": [
    {
     "data": {
      "text/plain": [
       "<Axes: xlabel='Age', ylabel='Salary'>"
      ]
     },
     "execution_count": 63,
     "metadata": {},
     "output_type": "execute_result"
    },
    {
     "data": {
      "image/png": "[encoded data removed]",
      "text/plain": [
       "<Figure size 640x480 with 1 Axes>"
      ]
     },
     "metadata": {},
     "output_type": "display_data"
    }
   ],
   "source": [
    "sns.scatterplot(x='Age',y='Salary',data=data)"
   ]
  },
  {
   "cell_type": "code",
   "execution_count": 65,
   "id": "485a4ac5-c0a1-436e-a04d-675d3e6224d4",
   "metadata": {},
   "outputs": [
    {
     "data": {
      "text/plain": [
       "<Axes: xlabel='Age', ylabel='Salary'>"
      ]
     },
     "execution_count": 65,
     "metadata": {},
     "output_type": "execute_result"
    },
    {
     "data": {
      "image/png": "[encoded data removed]",
      "text/plain": [
       "<Figure size 640x480 with 1 Axes>"
      ]
     },
     "metadata": {},
     "output_type": "display_data"
    }
   ],
   "source": [
    "sns.histplot(x='Age',y='Salary',data=data)"
   ]
  }
 ],
 "metadata": {
  "kernelspec": {
   "display_name": "Python 3 (ipykernel)",
   "language": "python",
   "name": "python3"
  },
  "language_info": {
   "codemirror_mode": {
    "name": "ipython",
    "version": 3
   },
   "file_extension": ".py",
   "mimetype": "text/x-python",
   "name": "python",
   "nbconvert_exporter": "python",
   "pygments_lexer": "ipython3",
   "version": "3.12.4"
  }
 },
 "nbformat": 4,
 "nbformat_minor": 5
}
